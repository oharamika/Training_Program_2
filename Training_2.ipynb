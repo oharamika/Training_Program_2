{
  "nbformat": 4,
  "nbformat_minor": 5,
  "metadata": {
    "kernelspec": {
      "display_name": "Python 3",
      "language": "python",
      "name": "python3"
    },
    "language_info": {
      "codemirror_mode": {
        "name": "ipython",
        "version": 3
      },
      "file_extension": ".py",
      "mimetype": "text/x-python",
      "name": "python",
      "nbconvert_exporter": "python",
      "pygments_lexer": "ipython3",
      "version": "3.8.10"
    },
    "colab": {
      "name": "Training_2.ipynb",
      "provenance": []
    }
  },
  "cells": [
    {
      "cell_type": "markdown",
      "metadata": {
        "id": "be7b3d7b"
      },
      "source": [
        "\n",
        "# データ構造化事例　＃２\n",
        "## 走査電子顕微鏡（SEM）のデータ構造化 \n",
        "\n",
        "\n",
        "\n",
        "**対応機種** ：　 日立ハイテク　TM3000, TM4000シリーズ  \n",
        "**rawデータ**：　txt (テキスト形式)  \n",
        "**スクリプトの内容**：  \n",
        "本ドキュメントは卓上電子顕微鏡（低真空SEM）のTM3000, TM4000シリーズについて，撮影した画像を登録することのほかに，撮影情報をリスト化するデータ構造化のスクリプトに関する動作方法について記述します．\n",
        "\n",
        "![image](https://user-images.githubusercontent.com/38028745/133568158-b10fe1c0-8024-434e-8bd6-23d71cfb6ffb.png)"
      ],
      "id": "be7b3d7b"
    },
    {
      "cell_type": "markdown",
      "metadata": {
        "id": "3e8c4ae6"
      },
      "source": [
        "## サンプルデータを読み込みましょう"
      ],
      "id": "3e8c4ae6"
    },
    {
      "cell_type": "code",
      "metadata": {
        "colab": {
          "base_uri": "https://localhost:8080/"
        },
        "id": "44c87c06",
        "outputId": "5f14c54e-7a4a-432e-de2f-729d116de1eb"
      },
      "source": [
        "!git clone https://github.com/ARIM-Japan/Training_Program_2.git\n",
        "%cd Training_Program_2"
      ],
      "id": "44c87c06",
      "execution_count": 1,
      "outputs": [
        {
          "output_type": "stream",
          "name": "stdout",
          "text": [
            "Cloning into 'Training_Program_2'...\n",
            "remote: Enumerating objects: 138, done.\u001b[K\n",
            "remote: Counting objects: 100% (138/138), done.\u001b[K\n",
            "remote: Compressing objects: 100% (114/114), done.\u001b[K\n",
            "remote: Total 138 (delta 71), reused 58 (delta 20), pack-reused 0\u001b[K\n",
            "Receiving objects: 100% (138/138), 2.89 MiB | 27.40 MiB/s, done.\n",
            "Resolving deltas: 100% (71/71), done.\n",
            "/content/Training_Program_2\n"
          ]
        }
      ]
    },
    {
      "cell_type": "markdown",
      "metadata": {
        "id": "5651aed7"
      },
      "source": [
        "これで準備が整いました．"
      ],
      "id": "5651aed7"
    },
    {
      "cell_type": "markdown",
      "metadata": {
        "id": "790a0f55"
      },
      "source": [
        "<hr>"
      ],
      "id": "790a0f55"
    },
    {
      "cell_type": "markdown",
      "metadata": {
        "id": "54c4945a"
      },
      "source": [
        "## 1. ライブラリーを読み込みましょう\n",
        "最初にコードを走らせるのに必要なライブラリーを読み込みます．ライブラリとしては以下を使っています．\n",
        " * 標準ライブラリー: ``sys``,``glob``, ``os``, ``io``, ``re``, ``csv``,``chardet``\n",
        " * 数値処理用: ``pandas``\n",
        " \n",
        " 目新しいライブラリーとしては``chardet``でしょうか．これはファイルの読み込みにおいて，文字コードの判定に使うライブラリーです． ファイルの中が英語，日本語によってエンコーディングをutf-8とするか，それともshift-jisとするかの判定を行う場面が生じます．このときに``chardet``のライブラリーが役に立ちます． \n",
        " https://pypi.org/project/chardet/"
      ],
      "id": "54c4945a"
    },
    {
      "cell_type": "code",
      "metadata": {
        "id": "305a0929"
      },
      "source": [
        "# ファイル操作用\n",
        "import sys\n",
        "import glob\n",
        "import os\n",
        "import io\n",
        "import re\n",
        "import csv\n",
        "\n",
        "# 数値処理用\n",
        "import pandas as pd\n",
        "from chardet import detect"
      ],
      "id": "305a0929",
      "execution_count": 2,
      "outputs": []
    },
    {
      "cell_type": "markdown",
      "metadata": {
        "id": "2e5ccc64"
      },
      "source": [
        "また，出力結果を「output」フォルダーに保存するため，そのフォルダーの作成をします．"
      ],
      "id": "2e5ccc64"
    },
    {
      "cell_type": "code",
      "metadata": {
        "id": "be11d240"
      },
      "source": [
        "output_folder = 'output'\n",
        "os.makedirs(output_folder,exist_ok = True)"
      ],
      "id": "be11d240",
      "execution_count": 3,
      "outputs": []
    },
    {
      "cell_type": "markdown",
      "metadata": {
        "id": "74d23d8c"
      },
      "source": [
        "## 2. ファイルの拡張子を調べます\n",
        "データ構造化の最初のステップとして，データ構造化するファイルを特定する必要があることは＃１で述べた通りですが，ここでも特定は**拡張子**で判定します． \n",
        "\n",
        "下記の``read_files``関数は＃１よりもシンプルにしていますが，入力ファイルが置いてある「data」フォルダーにある特定の拡張子のファイルをすべてリスト化する考え方は同じくしています．特にSEMでは倍率や場所を変えて複数の撮影を行うため，複数のファイルを事前に判定しておく必要があります．\n",
        "\n",
        "もしエラーがでたら「data」フォルダーを作成し，その中に.txtファイルを配置してみてください．"
      ],
      "id": "74d23d8c"
    },
    {
      "cell_type": "code",
      "metadata": {
        "id": "a1f3c8f0"
      },
      "source": [
        "# 実行処理#rawデータの読み込み\n",
        "def read_files(extension):\n",
        "    \"\"\"\n",
        "    概要: 特定の拡張子のついたファイルをすべて読み込む\n",
        "    @param extension: 読み込む拡張子\n",
        "    @return ソートされたファイル名群\n",
        "    \"\"\"\n",
        "\n",
        "    #入力データのフォルダーを\"data\"とする\n",
        "    data_folder = 'data/*'\n",
        "    path = data_folder + extension\n",
        "    \n",
        "    # 連続撮影されたファイル名の確認\n",
        "    files = glob.glob(path)\n",
        "    \n",
        "    input_files = sorted(files)\n",
        "    print (input_files)\n",
        "    \n",
        "    return input_files"
      ],
      "id": "a1f3c8f0",
      "execution_count": 4,
      "outputs": []
    },
    {
      "cell_type": "markdown",
      "metadata": {
        "id": "04c19dc2"
      },
      "source": [
        "サンプルファイルではSEMで撮影された三枚の写真があります．それらの撮影情報ファイルである.txtのファイルを指定してみましょう．"
      ],
      "id": "04c19dc2"
    },
    {
      "cell_type": "code",
      "metadata": {
        "colab": {
          "base_uri": "https://localhost:8080/"
        },
        "id": "73504d4e",
        "outputId": "fa45b3ee-a45d-4e7e-c177-7c26ad7b752e"
      },
      "source": [
        "extension = '.txt'\n",
        "files = read_files(extension)"
      ],
      "id": "73504d4e",
      "execution_count": 5,
      "outputs": [
        {
          "output_type": "stream",
          "name": "stdout",
          "text": [
            "['data/sample-１_1200倍(x1.2k).txt', 'data/sample-１_200倍(x200).txt', 'data/sample-１_600倍(x600).txt']\n"
          ]
        }
      ]
    },
    {
      "cell_type": "markdown",
      "metadata": {
        "id": "5eba0881"
      },
      "source": [
        "上記のように複数撮影されたリスト配列の結果がソートされて戻ります． "
      ],
      "id": "5eba0881"
    },
    {
      "cell_type": "markdown",
      "metadata": {
        "id": "eb9e216e"
      },
      "source": [
        "## 3. メタデータのデータ構造化　（辞書および翻訳対応の作成）\n",
        "\n",
        "撮影情報ファイルには多くのメタデータが含まれています．このままでは使いにくいですよね．      \n",
        "その中から加速電圧や倍率など論文などに記載が必要なメタデータのみを抽出してリスト化すると，SEMの写真管理でも役に立ちます．  \n",
        "\n",
        "ここでは，その作業のはじめとして，まずは必要なメタデータを外部辞書ファイル（``KEYPARAFILE.csv``）として作成しておき，それをpythonの中ではdictionaly構造でkeyとして保持させます．\n",
        "\n",
        "後の＃５では，この辞書とマッチしたメタデータのvalueを返すようにしますが，そのための仕掛けとなります．\n",
        "\n",
        "ここではkeyを英語から日本語，もしくは日本語から英語へと変換させることができます．また，メーカー固有の出力を分かりやすい世用語に置き換える「翻訳」をさせることも可能です．"
      ],
      "id": "eb9e216e"
    },
    {
      "cell_type": "code",
      "metadata": {
        "id": "b6fcb51b"
      },
      "source": [
        "def get_keypara(_fn):\n",
        "\n",
        "    \"\"\"\n",
        "    概要: KEYPARAFILEのcsvを読み込みメタデータを翻訳する\n",
        "    @param _fn: templateファイル\n",
        "    @return：　変換した語彙の辞書を辞書型として\n",
        "    \"\"\"\n",
        "    \n",
        "    _dict = dict()\n",
        "\n",
        "    try:\n",
        "        with open(_fn, mode='r') as f:\n",
        "            line = f.readline()\n",
        "            \n",
        "            while line:\n",
        "                str = line.strip().split(',')\n",
        "                key = str[0].strip()\n",
        "                value = str[1].strip()\n",
        "                _dict[key] = value\n",
        "                line = f.readline()\n",
        "    except:\n",
        "        print('get_keypara NG', file=sys.stderr)\n",
        "\n",
        "    return _dict"
      ],
      "id": "b6fcb51b",
      "execution_count": 6,
      "outputs": []
    },
    {
      "cell_type": "markdown",
      "metadata": {
        "id": "2c54783a"
      },
      "source": [
        "予めSEMの必要としたパラメータをcsvとしてまとめたキーパラメータのリスト``keypara.csv``を定義しておきます．そして，`` get_keypara``関数で次のように走らせます．"
      ],
      "id": "2c54783a"
    },
    {
      "cell_type": "code",
      "metadata": {
        "colab": {
          "base_uri": "https://localhost:8080/"
        },
        "id": "fa50e462",
        "outputId": "16e73f1a-b13c-44d6-b1f4-78cc55dda1aa"
      },
      "source": [
        "KEYPARAFILE = 'keypara.csv'\n",
        "keypara = get_keypara(KEYPARAFILE)\n",
        "keypara"
      ],
      "id": "fa50e462",
      "execution_count": 7,
      "outputs": [
        {
          "output_type": "execute_result",
          "data": {
            "text/plain": [
              "{'AcceleratingVoltage': 'Accelerating Voltage',\n",
              " 'DataNumber': 'Comment and Number',\n",
              " 'DataSize': 'Data Size',\n",
              " 'Date': 'Measurement Date',\n",
              " 'ImageName': 'File Name',\n",
              " 'InstructName': 'Instrument Model',\n",
              " 'Magnification': 'Magnification',\n",
              " 'PixelSize': 'Pixel Size',\n",
              " 'SerialNumber': 'Instrument S/N',\n",
              " 'SignalName': 'Signal Name',\n",
              " 'Time': 'Measurement Time',\n",
              " 'WorkingDistance': 'Working Distance'}"
            ]
          },
          "metadata": {},
          "execution_count": 7
        }
      ]
    },
    {
      "cell_type": "markdown",
      "metadata": {
        "id": "b60ebcbd"
      },
      "source": [
        "上記のようにkeypara.csvに指定してあるパラメータが辞書化されて取り出されています．"
      ],
      "id": "b60ebcbd"
    },
    {
      "cell_type": "markdown",
      "metadata": {
        "id": "3b9f8120"
      },
      "source": [
        "## 4. ファイルの記述形式をcsv型に変える\n",
        "テキスト型で出力される中でも表記には流儀があります．日立ハイテクのSEMの出力のフォーマットはINIファイル形式の表記となっています．\n",
        "\n",
        "https://ja.wikipedia.org/wiki/INI%E3%83%95%E3%82%A1%E3%82%A4%E3%83%AB\n",
        "\n",
        "INIファイルにおいてはメタデータのキーと値が”＝”で結ばれていますが，ここでは”＝”から”，”に置き換えてcsv化させる前処理を行います．\n",
        "\n",
        "次のコードでは読み込みが二段階で行われているように見えますが，最初の``open``関数での読み込みは文字コード判定のために行っています．\n",
        "\n",
        "あえてSEMの場合にこの処理を加えているのは，SEMの利用形態においては日本語文字でファイル名を保存したり，またファイルの中身においても日本語で記入する割合が高い利用形態が調査でわかりました．  \n",
        "\n",
        "半角英数字のみであればデフォルトのutf-8として，この処理は不要ですが，日本語が交じるとデフォルトのままでは文字化けが発生するため，この事前の判定を必要とします．  \n",
        "\n",
        "もし，機器の運用に置いて日本語を使用しないことがわかっていれば，この事前処理は不要です．"
      ],
      "id": "3b9f8120"
    },
    {
      "cell_type": "code",
      "metadata": {
        "id": "ec0049ef"
      },
      "source": [
        "def ini_to_csv(_fn):\n",
        "    \"\"\"\n",
        "    概要: ini形式のtextファイルをcsv型へ変換する\n",
        "    @param _fn: rawデータのファイル\n",
        "    @return：　csv型をtxtとして戻す\n",
        "    \"\"\"\n",
        "    \n",
        "    csv = \"\"\n",
        "    \n",
        "    # encodingの判定\n",
        "    with open(_fn, 'rb') as f:\n",
        "        b = f.read()\n",
        "        enc = detect(b)\n",
        "        encd = enc['encoding']\n",
        "\n",
        "    with open(_fn, mode='r', encoding=encd) as f:\n",
        "        line = f.readline()\n",
        "        \n",
        "        while line:\n",
        "            if not re.match(u\"\\[\", line):\n",
        "                str = line.rstrip(os.linesep).replace('=', ',', 1)\n",
        "                csv += str\n",
        "                csv += \"\\n\"\n",
        "            line = f.readline()\n",
        "            \n",
        "    return csv"
      ],
      "id": "ec0049ef",
      "execution_count": 8,
      "outputs": []
    },
    {
      "cell_type": "markdown",
      "metadata": {
        "id": "3fcd3f0c"
      },
      "source": [
        "ではサンプルファイルの一つ「sample-１_1200倍(x1.2k).txt」で走らせて確認しましょう．"
      ],
      "id": "3fcd3f0c"
    },
    {
      "cell_type": "code",
      "metadata": {
        "colab": {
          "base_uri": "https://localhost:8080/",
          "height": 137
        },
        "id": "8790c127",
        "outputId": "bd14829a-036d-4987-9792-306000c20b7a"
      },
      "source": [
        "filename = \"data/sample-１_1200倍(x1.2k).txt\"\n",
        "txt = ini_to_csv(filename)\n",
        "txt"
      ],
      "id": "8790c127",
      "execution_count": 9,
      "outputs": [
        {
          "output_type": "execute_result",
          "data": {
            "application/vnd.google.colaboratory.intrinsic+json": {
              "type": "string"
            },
            "text/plain": [
              "'InstructName,TM4000\\nSemVersion,01-08\\nSDMVersion,\\nSerialNumber,2170A6-05\\nDataNumber,TM4000 0001\\nSampleName,\\nFormat,tif\\nImageName,タンポポ花粉-１_1200倍(x1.2k).tif\\nDirectory,D:\\\\SemImage\\\\lixianglan\\\\\\nDate,2021/06/23\\nTime,16:43:33\\nMedia,HD[Data]\\nDataSize,1280x960\\nPixelSize,82.68229\\nSignalName,BSE\\nDisplaySignalName,BSE\\nSEDetSetting,\\nAcceleratingVoltage,15000 Volt\\nDecelerationVoltage,0 Volt\\nDecelerationMode,\\nMagnification,1200\\nWorkingDistance,7920.5 um\\nEmissionCurrent,46900 nA\\nPhotoSize,1000\\nMagnificationDisplay,0\\nVacuum,50\\nMicronMarker,40000\\nSubMagnification,0\\nSubSignalName,\\nSpecimenBias,0 V\\nCondencer1,9230\\nScanSpeed,Capture_Slow(80)\\nCaptureSpeed_Integration,\\nCalibrationScanSpeed,24\\nImgEnhance,0\\nColorMode,Grayscale\\nColorPalette,\\nScreenMode,Full Screen\\nComment,\\nKeyWord1,\\nKeyWord2,\\nCondition,Vacc=15.0kV Mag=x1.20k WD=7.9mm LensMode=3\\nDataDisplayCombine,1\\nStageType,0\\nStagePositionX,17500000\\nStagePositionY,17500000\\nStagePositionR,0.000\\nStagePositionZ,0\\nStagePositionT,0.000\\nFocusDepth,\\nDynamicFocus,0\\nTiltCompensation,0\\nImageShiftX,\\nImageShiftY,\\nRasterRotation,10.2\\nMagneticSample,\\nUserName,***\\n'"
            ]
          },
          "metadata": {},
          "execution_count": 9
        }
      ]
    },
    {
      "cell_type": "markdown",
      "metadata": {
        "id": "7d9e0e69"
      },
      "source": [
        "csvであるはずが，文字の羅列のようにみえますね．実際，プログラムの中ではcsvはこのような形で格納されています．\n",
        "\n",
        "特に文字化けのようにみえる「\\n」（出力は円記号）がリターンの意味です．このようにして通常の表示では改行されて表示されますが，ここでは文字列が連続的に表示されます．"
      ],
      "id": "7d9e0e69"
    },
    {
      "cell_type": "markdown",
      "metadata": {
        "id": "98e45fd8"
      },
      "source": [
        "## 5. 撮影情報メタリストの作成\n",
        "最後の処理となります．  \n",
        "ここでは＃４の出力の中から＃３で指定したメタデータのみを抽出します．そして，複数ファイルから同じメタデータのみを抽出し，それらを表組化する処理を行います．"
      ],
      "id": "98e45fd8"
    },
    {
      "cell_type": "code",
      "metadata": {
        "id": "bddbfc45"
      },
      "source": [
        "def make_metatable (files,keypara):\n",
        "    \n",
        "    # 撮影メタデータの抽出\n",
        "    n = 1\n",
        "    for fn in files:\n",
        "        txt = \"\"\n",
        "        txt = ini_to_csv(fn)\n",
        "        \n",
        "        tmp = pd.read_csv(io.StringIO(txt), header=None,\n",
        "                          names=['key', 'value%s' % n])\n",
        "        if n == 1:\n",
        "            out = tmp\n",
        "        else:\n",
        "            out = pd.merge(out, tmp, on='key', how='outer')\n",
        "        n += 1\n",
        "        \n",
        "    out = out.set_index('key')\n",
        "    out = out.transpose()\n",
        "    out = out[list(keypara.keys())]\n",
        "    d = dict(zip(list(keypara.keys()), list(keypara.values())))\n",
        "    out = out.rename(columns=d)\n",
        "\n",
        "    # 単位削除\n",
        "    for index, row in out.iterrows():\n",
        "        for k in ['Accelerating Voltage', 'Working Distance']:\n",
        "            v = row[k]\n",
        "            if v == v:\n",
        "                v = v.split(' ')\n",
        "                if len(v) > 1:\n",
        "                    row[k] = v[0]\n",
        "\n",
        "    # リストの出力\n",
        "    out.to_csv('output/' + \"metalist.csv\", index = None,\n",
        "               quoting=csv.QUOTE_NONNUMERIC, encoding='utf_8_sig')\n",
        "    \n",
        "    return out"
      ],
      "id": "bddbfc45",
      "execution_count": 10,
      "outputs": []
    },
    {
      "cell_type": "markdown",
      "metadata": {
        "id": "92e239f2"
      },
      "source": [
        "では，結果を見てみることにしましょう．\n",
        "一連のファイル群は＃２のfilesに入っています．それをそのまま流し込みます．また，keyparaは＃３でセレクトしたものです．それらを``make_metatable``関数に入れます．"
      ],
      "id": "92e239f2"
    },
    {
      "cell_type": "code",
      "metadata": {
        "colab": {
          "base_uri": "https://localhost:8080/",
          "height": 329
        },
        "id": "1fe85a5b",
        "outputId": "154ab281-65ef-4d1b-a9d2-5c01d629b5f7"
      },
      "source": [
        "files = files\n",
        "keypara = keypara\n",
        "out = make_metatable (files,keypara)\n",
        "out"
      ],
      "id": "1fe85a5b",
      "execution_count": 11,
      "outputs": [
        {
          "output_type": "execute_result",
          "data": {
            "text/html": [
              "<div>\n",
              "<style scoped>\n",
              "    .dataframe tbody tr th:only-of-type {\n",
              "        vertical-align: middle;\n",
              "    }\n",
              "\n",
              "    .dataframe tbody tr th {\n",
              "        vertical-align: top;\n",
              "    }\n",
              "\n",
              "    .dataframe thead th {\n",
              "        text-align: right;\n",
              "    }\n",
              "</style>\n",
              "<table border=\"1\" class=\"dataframe\">\n",
              "  <thead>\n",
              "    <tr style=\"text-align: right;\">\n",
              "      <th>key</th>\n",
              "      <th>Instrument Model</th>\n",
              "      <th>Instrument S/N</th>\n",
              "      <th>Comment and Number</th>\n",
              "      <th>File Name</th>\n",
              "      <th>Measurement Date</th>\n",
              "      <th>Measurement Time</th>\n",
              "      <th>Data Size</th>\n",
              "      <th>Pixel Size</th>\n",
              "      <th>Signal Name</th>\n",
              "      <th>Accelerating Voltage</th>\n",
              "      <th>Magnification</th>\n",
              "      <th>Working Distance</th>\n",
              "    </tr>\n",
              "  </thead>\n",
              "  <tbody>\n",
              "    <tr>\n",
              "      <th>value1</th>\n",
              "      <td>TM4000</td>\n",
              "      <td>2170A6-05</td>\n",
              "      <td>TM4000 0001</td>\n",
              "      <td>タンポポ花粉-１_1200倍(x1.2k).tif</td>\n",
              "      <td>2021/06/23</td>\n",
              "      <td>16:43:33</td>\n",
              "      <td>1280x960</td>\n",
              "      <td>82.68229</td>\n",
              "      <td>BSE</td>\n",
              "      <td>15000</td>\n",
              "      <td>1200</td>\n",
              "      <td>7920.5</td>\n",
              "    </tr>\n",
              "    <tr>\n",
              "      <th>value2</th>\n",
              "      <td>TM4000</td>\n",
              "      <td>2170A6-05</td>\n",
              "      <td>TM4000 0001</td>\n",
              "      <td>タンポポ花粉-１_200倍(x200).tif</td>\n",
              "      <td>2021/06/23</td>\n",
              "      <td>16:38:33</td>\n",
              "      <td>1280x960</td>\n",
              "      <td>496.0938</td>\n",
              "      <td>BSE</td>\n",
              "      <td>15000</td>\n",
              "      <td>200</td>\n",
              "      <td>7706.35</td>\n",
              "    </tr>\n",
              "    <tr>\n",
              "      <th>value3</th>\n",
              "      <td>TM4000</td>\n",
              "      <td>2170A6-05</td>\n",
              "      <td>TM4000 0001</td>\n",
              "      <td>タンポポ花粉-１_600倍(x600).tif</td>\n",
              "      <td>2021/06/23</td>\n",
              "      <td>16:41:13</td>\n",
              "      <td>1280x960</td>\n",
              "      <td>165.3646</td>\n",
              "      <td>BSE</td>\n",
              "      <td>15000</td>\n",
              "      <td>600</td>\n",
              "      <td>7892.3</td>\n",
              "    </tr>\n",
              "  </tbody>\n",
              "</table>\n",
              "</div>"
            ],
            "text/plain": [
              "key    Instrument Model Instrument S/N  ... Magnification Working Distance\n",
              "value1           TM4000      2170A6-05  ...          1200           7920.5\n",
              "value2           TM4000      2170A6-05  ...           200          7706.35\n",
              "value3           TM4000      2170A6-05  ...           600           7892.3\n",
              "\n",
              "[3 rows x 12 columns]"
            ]
          },
          "metadata": {},
          "execution_count": 11
        }
      ]
    },
    {
      "cell_type": "markdown",
      "metadata": {
        "id": "a97aaf3d"
      },
      "source": [
        "必要とするメタデータが抽出されて表組みになったのがわかります．撮影情報として最低限に必要な項目のみが綺麗にまとめられると，撮影したファイル名から撮影目的も一目瞭然となります．\n",
        "\n",
        "あわせて，この組み合わせが「output」フォルダに.csvとして出力されています．"
      ],
      "id": "a97aaf3d"
    },
    {
      "cell_type": "markdown",
      "metadata": {
        "id": "5d18d09b"
      },
      "source": [
        "## ６. 一本化する\n",
        "上記の一連の処理を一本化することをします．下記のように一本化したコードを``main``関数として定義しておきます．処理の順番を並べるだけです．\n"
      ],
      "id": "5d18d09b"
    },
    {
      "cell_type": "code",
      "metadata": {
        "id": "74427d3d"
      },
      "source": [
        "def main():\n",
        "\n",
        "    output_folder = 'output'\n",
        "    os.makedirs(output_folder,exist_ok = True)\n",
        "    \n",
        "    extension = '.txt'\n",
        "    files = read_files(extension)\n",
        "    \n",
        "    KEYPARAFILE = 'keypara.csv'\n",
        "    keypara = get_keypara(KEYPARAFILE)\n",
        "    \n",
        "    \n",
        "    out = make_metatable(files,keypara)\n",
        "    \n",
        "    print (out)"
      ],
      "id": "74427d3d",
      "execution_count": 12,
      "outputs": []
    },
    {
      "cell_type": "markdown",
      "metadata": {
        "id": "ea1c4527"
      },
      "source": [
        "その``main``関数を下記のようにして走らせてみましょう．一連の処理が一貫で行われます．"
      ],
      "id": "ea1c4527"
    },
    {
      "cell_type": "code",
      "metadata": {
        "colab": {
          "base_uri": "https://localhost:8080/"
        },
        "id": "5a2e159c",
        "outputId": "59e50eef-ee6e-4701-9dfd-627bb8f32032"
      },
      "source": [
        "main()\n"
      ],
      "id": "5a2e159c",
      "execution_count": 13,
      "outputs": [
        {
          "output_type": "stream",
          "name": "stdout",
          "text": [
            "['data/sample-１_1200倍(x1.2k).txt', 'data/sample-１_200倍(x200).txt', 'data/sample-１_600倍(x600).txt']\n",
            "key    Instrument Model Instrument S/N  ... Magnification Working Distance\n",
            "value1           TM4000      2170A6-05  ...          1200           7920.5\n",
            "value2           TM4000      2170A6-05  ...           200          7706.35\n",
            "value3           TM4000      2170A6-05  ...           600           7892.3\n",
            "\n",
            "[3 rows x 12 columns]\n"
          ]
        }
      ]
    },
    {
      "cell_type": "markdown",
      "metadata": {
        "id": "WtFnGmb2X6QS"
      },
      "source": [
        "では出力されたCSVを取り出して見てみましょう．PCをお使いの方々はoutput_folderというフォルダーを見れば，グラフとCSVが出力されています．Google Colaboratoryをお使いの方々は，まず下のコマンドコードを実行してください．"
      ],
      "id": "WtFnGmb2X6QS"
    },
    {
      "cell_type": "code",
      "metadata": {
        "colab": {
          "base_uri": "https://localhost:8080/"
        },
        "id": "H6URypRtYRCp",
        "outputId": "c5f8aa0a-d8fe-4331-9b8e-6fd3d5a268aa"
      },
      "source": [
        "!pwd\n",
        "!ls"
      ],
      "id": "H6URypRtYRCp",
      "execution_count": 14,
      "outputs": [
        {
          "output_type": "stream",
          "name": "stdout",
          "text": [
            "/content/Training_Program_2\n",
            "data  keypara.csv  output  README.md  Training_2.ipynb\n"
          ]
        }
      ]
    },
    {
      "cell_type": "markdown",
      "metadata": {
        "id": "lX8HtRotYpFq"
      },
      "source": [
        "現在プログラムを実行しているフォルダーがTraining_Program_1というところで，そこにdataフォルダーやoutputフォルダー，READMEやこのプログラムの書かれたノートブックのファイルであるTraining_1.ipynbもあります．では、次のコマンドコードでoutputフォルダーに移動してみましょう．"
      ],
      "id": "lX8HtRotYpFq"
    },
    {
      "cell_type": "code",
      "metadata": {
        "colab": {
          "base_uri": "https://localhost:8080/"
        },
        "id": "X65EH-UcY44Z",
        "outputId": "d8ea3d6c-3894-4809-a0f2-cf8ec7eb5748"
      },
      "source": [
        "%cd output/\n",
        "!ls"
      ],
      "id": "X65EH-UcY44Z",
      "execution_count": 15,
      "outputs": [
        {
          "output_type": "stream",
          "name": "stdout",
          "text": [
            "/content/Training_Program_2/output\n",
            "metalist.csv\n"
          ]
        }
      ]
    },
    {
      "cell_type": "markdown",
      "metadata": {
        "id": "mbt7HCftZBTa"
      },
      "source": [
        "metalist.csvというCSVファイルが出てきました．これを以下のプログラムコードを実行して取り出して見ましょう．"
      ],
      "id": "mbt7HCftZBTa"
    },
    {
      "cell_type": "code",
      "metadata": {
        "colab": {
          "base_uri": "https://localhost:8080/",
          "height": 17
        },
        "id": "gqK8F2lnZLFs",
        "outputId": "5ca927c1-743c-4649-9a49-c4a7824d0029"
      },
      "source": [
        "from google.colab import files\n",
        "\n",
        "files.download(\"metalist.csv\")"
      ],
      "id": "gqK8F2lnZLFs",
      "execution_count": 16,
      "outputs": [
        {
          "output_type": "display_data",
          "data": {
            "application/javascript": [
              "\n",
              "    async function download(id, filename, size) {\n",
              "      if (!google.colab.kernel.accessAllowed) {\n",
              "        return;\n",
              "      }\n",
              "      const div = document.createElement('div');\n",
              "      const label = document.createElement('label');\n",
              "      label.textContent = `Downloading \"${filename}\": `;\n",
              "      div.appendChild(label);\n",
              "      const progress = document.createElement('progress');\n",
              "      progress.max = size;\n",
              "      div.appendChild(progress);\n",
              "      document.body.appendChild(div);\n",
              "\n",
              "      const buffers = [];\n",
              "      let downloaded = 0;\n",
              "\n",
              "      const channel = await google.colab.kernel.comms.open(id);\n",
              "      // Send a message to notify the kernel that we're ready.\n",
              "      channel.send({})\n",
              "\n",
              "      for await (const message of channel.messages) {\n",
              "        // Send a message to notify the kernel that we're ready.\n",
              "        channel.send({})\n",
              "        if (message.buffers) {\n",
              "          for (const buffer of message.buffers) {\n",
              "            buffers.push(buffer);\n",
              "            downloaded += buffer.byteLength;\n",
              "            progress.value = downloaded;\n",
              "          }\n",
              "        }\n",
              "      }\n",
              "      const blob = new Blob(buffers, {type: 'application/binary'});\n",
              "      const a = document.createElement('a');\n",
              "      a.href = window.URL.createObjectURL(blob);\n",
              "      a.download = filename;\n",
              "      div.appendChild(a);\n",
              "      a.click();\n",
              "      div.remove();\n",
              "    }\n",
              "  "
            ],
            "text/plain": [
              "<IPython.core.display.Javascript object>"
            ]
          },
          "metadata": {}
        },
        {
          "output_type": "display_data",
          "data": {
            "application/javascript": [
              "download(\"download_7c2b58d8-6b51-4bce-9542-345174a44aba\", \"metalist.csv\", 667)"
            ],
            "text/plain": [
              "<IPython.core.display.Javascript object>"
            ]
          },
          "metadata": {}
        }
      ]
    },
    {
      "cell_type": "markdown",
      "metadata": {
        "id": "2QaquK0AZX1S"
      },
      "source": [
        "CSVファイルが無事にダウンロード出来ましたでしょうか．"
      ],
      "id": "2QaquK0AZX1S"
    },
    {
      "cell_type": "markdown",
      "metadata": {
        "id": "737751e4"
      },
      "source": [
        "## おわりに\n",
        "このSEMは最も基本形のシンプルなタイプのメタデータを抽出するデータ構造化の事例となります．基本的なポイントとなるのは次の処理項目です．\n",
        "\n",
        "* データ構造化したいファイルを指定して読み込む\n",
        "* 抽出するメタデータを外部辞書ファイルとして指定して，それを読み込む\n",
        "* 実験ファイルの中でマッチングするメタデータを抽出する．\n",
        "\n",
        "あとは，お好みに応じて``KEYPARA``ファイルの中身を増やしたり減らしたりすることで，ユーザーの利用形態にあわせて調整することができます．\n",
        "\n",
        "また，SEMの場合には撮影した目的に応じた判定をしているはずです．（例えば欠陥があった，なかったなど）　そのようなラベルリストは別に用意しておくと，機械学習に供することができるようになります．"
      ],
      "id": "737751e4"
    },
    {
      "cell_type": "code",
      "metadata": {
        "id": "5a30cbae"
      },
      "source": [
        ""
      ],
      "id": "5a30cbae",
      "execution_count": null,
      "outputs": []
    }
  ]
}