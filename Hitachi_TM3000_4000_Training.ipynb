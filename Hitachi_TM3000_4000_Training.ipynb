{
 "cells": [
  {
   "cell_type": "markdown",
   "id": "be7b3d7b",
   "metadata": {},
   "source": [
    "\n",
    "# データ構造化事例　＃２\n",
    "## 走査電子顕微鏡（SEM）のデータ構造化 \n",
    "\n",
    "\n",
    "\n",
    "**対応機種** ：　 日立ハイテク　TM3000, TM4000シリーズ\n",
    "**rawデータ**：　txt (テキスト形式)  \n",
    "**スクリプトの内容**：  \n",
    "本ドキュメントは卓上電子顕微鏡（低真空SEM）のTM3000, TM4000シリーズについて，撮影した画像を登録することのほかに，撮影情報をリスト化するデータ構造化のスクリプトに関する動作方法について記述します．\n",
    "\n",
    "![image](https://user-images.githubusercontent.com/38028745/133568158-b10fe1c0-8024-434e-8bd6-23d71cfb6ffb.png)"
   ]
  },
  {
   "cell_type": "markdown",
   "id": "4b4600b6",
   "metadata": {},
   "source": [
    "<hr>"
   ]
  },
  {
   "cell_type": "markdown",
   "id": "d67c4e8d",
   "metadata": {},
   "source": [
    "## はじめに　Google ColabでGitHubのコードを動かす準備　（Google Colabでなければ不要）\n",
    "Google ColabでGitHubのコードを動かすための方法です．  \n",
    "**Google Colabからではない場合には本作業はスキップ**してください．  "
   ]
  },
  {
   "cell_type": "markdown",
   "id": "bc487e66",
   "metadata": {},
   "source": [
    "次のボタンを押してGoogle Colabにアクセスします．  \n",
    "もしグレーアウトで開かない場合には**右クリック**で「**新しいタブで開く**」を選んで進んでください．"
   ]
  },
  {
   "cell_type": "markdown",
   "id": "7491989b",
   "metadata": {},
   "source": [
    "<a href=\"https://colab.research.google.com/github/ARIM-Japan/Training_Program/blob/main/XRD_Rigaku_Smartlab_Training.ipynb\">\n",
    "  <img src=\"https://colab.research.google.com/assets/colab-badge.svg\" alt=\"Open In Colab\"/>\n",
    "</a>"
   ]
  },
  {
   "cell_type": "markdown",
   "id": "3e8c4ae6",
   "metadata": {},
   "source": [
    "## サンプルデータを読み込みましょう"
   ]
  },
  {
   "cell_type": "code",
   "execution_count": 1,
   "id": "44c87c06",
   "metadata": {},
   "outputs": [
    {
     "name": "stdout",
     "output_type": "stream",
     "text": [
      "C:\\Users\\Shigeyuki Matsunami\\Dropbox\\4_データ設計\\1_データ構造化\\Github\\Training_Program\\Training_Program\n"
     ]
    },
    {
     "name": "stderr",
     "output_type": "stream",
     "text": [
      "Cloning into 'Training_Program'...\n"
     ]
    }
   ],
   "source": [
    "!git clone https://github.com/ARIM-Japan/Training_Program_SEM.git\n",
    "%cd Training_Program_SEM"
   ]
  },
  {
   "cell_type": "markdown",
   "id": "5651aed7",
   "metadata": {},
   "source": [
    "これで準備が整いました．"
   ]
  },
  {
   "cell_type": "markdown",
   "id": "790a0f55",
   "metadata": {},
   "source": [
    "<hr>"
   ]
  },
  {
   "cell_type": "markdown",
   "id": "54c4945a",
   "metadata": {},
   "source": [
    "## 1. ライブラリーを読み込みましょう\n",
    "最初にコードを走らせるのに必要なライブラリーを読み込みます．ライブラリとしては以下を使っています．\n",
    " * 標準ライブラリー: ``sys``,``glob``, ``os``, ``io``, ``re``, ``csv``,``chardet``\n",
    " * 数値処理用: ``pandas``\n",
    " \n",
    " 目新しいライブラリーとしては``chardet``でしょうか．これはファイルの読み込みにおいて，文字コードの判定に使うライブラリーです． ファイルの中が英語，日本語によってエンコーディングをutf-8とするか，それともshift-jisとするかの判定を行う場面が生じます．このときに``chardet``のライブラリーが役に立ちます． \n",
    " https://pypi.org/project/chardet/"
   ]
  },
  {
   "cell_type": "code",
   "execution_count": 20,
   "id": "305a0929",
   "metadata": {},
   "outputs": [],
   "source": [
    "# ファイル操作用\n",
    "import sys\n",
    "import glob\n",
    "import os\n",
    "import io\n",
    "import re\n",
    "import csv\n",
    "\n",
    "# 数値処理用\n",
    "import pandas as pd\n",
    "from chardet import detect"
   ]
  },
  {
   "cell_type": "markdown",
   "id": "2e5ccc64",
   "metadata": {},
   "source": [
    "また，出力結果を「output」フォルダーに保存するため，そのフォルダーの作成をします．"
   ]
  },
  {
   "cell_type": "code",
   "execution_count": 2,
   "id": "be11d240",
   "metadata": {},
   "outputs": [],
   "source": [
    "output_folder = 'output'\n",
    "os.makedirs(output_folder,exist_ok = True)"
   ]
  },
  {
   "cell_type": "markdown",
   "id": "74d23d8c",
   "metadata": {},
   "source": [
    "## 2. ファイルの拡張子を調べます\n",
    "データ構造化の最初のステップとして，データ構造化するファイルを特定する必要があることは＃１で述べた通りですが，ここでも特定は**拡張子**で判定します． \n",
    "\n",
    "下記の``read_files``関数は＃１よりもシンプルにしていますが，入力ファイルが置いてある「data」フォルダーにある特定の拡張子のファイルをすべてリスト化する考え方は同じくしています．特にSEMでは倍率や場所を変えて複数の撮影を行うため，複数のファイルを事前に判定しておく必要があります．\n",
    "\n",
    "もしエラーがでたら「data」フォルダーを作成し，その中に.txtファイルを配置してみてください．"
   ]
  },
  {
   "cell_type": "code",
   "execution_count": 3,
   "id": "41e3ce4c",
   "metadata": {},
   "outputs": [],
   "source": [
    "# 実行処理#rawデータの読み込み\n",
    "def read_files(extension):\n",
    "    \"\"\"\n",
    "    概要: 特定の拡張子のついたファイルをすべて読み込む\n",
    "    @param extension: 読み込む拡張子\n",
    "    @return ソートされたファイル名群\n",
    "    \"\"\"\n",
    "\n",
    "    #入力データのフォルダーを\"data\"とする\n",
    "    data_folder = 'data/*'\n",
    "    path = data_folder + extension\n",
    "    \n",
    "    # 連続撮影されたファイル名の確認\n",
    "    files = glob.glob(path)\n",
    "    \n",
    "    input_files = sorted(files)\n",
    "    print (input_files)\n",
    "    \n",
    "    return input_files"
   ]
  },
  {
   "cell_type": "markdown",
   "id": "fcc193b1",
   "metadata": {},
   "source": [
    "サンプルファイルではSEMで撮影された三枚の写真んがあります．それらの撮影情報ファイルである.txtのファイルを指定してみましょう．"
   ]
  },
  {
   "cell_type": "code",
   "execution_count": 17,
   "id": "3f4bb06a",
   "metadata": {},
   "outputs": [
    {
     "name": "stdout",
     "output_type": "stream",
     "text": [
      "['data\\\\sample-１_1200倍(x1.2k).txt', 'data\\\\sample-１_200倍(x200).txt', 'data\\\\sample-１_600倍(x600).txt']\n"
     ]
    }
   ],
   "source": [
    "extension = '.txt'\n",
    "files = read_files(extension)"
   ]
  },
  {
   "cell_type": "markdown",
   "id": "d6629548",
   "metadata": {},
   "source": [
    "上記のように複数撮影されたリスト配列の結果がソートされて戻ります． "
   ]
  },
  {
   "cell_type": "markdown",
   "id": "cb35cf9f",
   "metadata": {},
   "source": [
    "## 3. メタデータのデータ構造化　（辞書および翻訳対応の作成）\n",
    "\n",
    "撮影情報ファイルには多くのメタデータが含まれています．その中から加速電圧や倍率など論文などに記載が必要なメタデータのみを抽出してリスト化すると，SEMの写真管理でも役に立ちます．ここでは，その作業のはじめとして，まずは必要なメタデータを外部辞書ファイル（KEYPARAFILE.csv）として作成しておき，それをpythonの中ではdictionaly構造でkeyとして保持させます．\n",
    "\n",
    "後の＃５では，この辞書とマッチしたメタデータのvalueを返すようにしますが，そのための仕掛けとなります．\n",
    "\n",
    "また，あわせてここでkeyを英語から日本語，もしくは日本語から英語へと変換させることができることのほかに，メーカー固有の出力を分かりやすい世用語に置き換える「翻訳」をさせることができます．"
   ]
  },
  {
   "cell_type": "code",
   "execution_count": 18,
   "id": "b6fcb51b",
   "metadata": {},
   "outputs": [],
   "source": [
    "def get_keypara(_fn):\n",
    "\n",
    "    \"\"\"\n",
    "    概要: KEYPARAFILEのcsvを読み込みメタデータを翻訳する\n",
    "    @param _fn: templateファイル\n",
    "    @return：　変換した語彙の辞書を辞書型として\n",
    "    \"\"\"\n",
    "    \n",
    "    _dict = dict()\n",
    "\n",
    "    try:\n",
    "        with open(_fn, mode='r') as f:\n",
    "            line = f.readline()\n",
    "            \n",
    "            while line:\n",
    "                str = line.strip().split(',')\n",
    "                key = str[0].strip()\n",
    "                value = str[1].strip()\n",
    "                _dict[key] = value\n",
    "                line = f.readline()\n",
    "    except:\n",
    "        print('get_keypara NG', file=sys.stderr)\n",
    "\n",
    "    return _dict"
   ]
  },
  {
   "cell_type": "markdown",
   "id": "2c54783a",
   "metadata": {},
   "source": [
    "予めSEMの必要としたパラメータをcsvとしてまとめたキーパラメータのリスト``keypara.csv``を定義しておきます．そして，`` get_keypara``関数で次のように走らせます．"
   ]
  },
  {
   "cell_type": "code",
   "execution_count": 21,
   "id": "fa50e462",
   "metadata": {},
   "outputs": [
    {
     "data": {
      "text/plain": [
       "{'InstructName': 'Instrument Model',\n",
       " 'SerialNumber': 'Instrument S/N',\n",
       " 'DataNumber': 'Comment and Number',\n",
       " 'ImageName': 'File Name',\n",
       " 'Date': 'Measurement Date',\n",
       " 'Time': 'Measurement Time',\n",
       " 'DataSize': 'Data Size',\n",
       " 'PixelSize': 'Pixel Size',\n",
       " 'SignalName': 'Signal Name',\n",
       " 'AcceleratingVoltage': 'Accelerating Voltage',\n",
       " 'Magnification': 'Magnification',\n",
       " 'WorkingDistance': 'Working Distance'}"
      ]
     },
     "execution_count": 21,
     "metadata": {},
     "output_type": "execute_result"
    }
   ],
   "source": [
    "KEYPARAFILE = 'keypara.csv'\n",
    "keypara = get_keypara(KEYPARAFILE)\n",
    "keypara"
   ]
  },
  {
   "cell_type": "markdown",
   "id": "b60ebcbd",
   "metadata": {},
   "source": [
    "上記のようにkeypara.csvに指定してあるパラメータが辞書化されて取り出されています．"
   ]
  },
  {
   "cell_type": "markdown",
   "id": "3b9f8120",
   "metadata": {},
   "source": [
    "## 4. ファイルの記述形式をcsv型に変える\n",
    "テキスト型で出力される中でも表記には流儀があります．日立ハイテクのSEMの出力のフォーマットはINIファイル形式の表記となっています．\n",
    "\n",
    "https://ja.wikipedia.org/wiki/INI%E3%83%95%E3%82%A1%E3%82%A4%E3%83%AB\n",
    "\n",
    "INIファイルにおいてはメタデータのキーと値が”＝”で結ばれていますが，ここでは”＝”から”，”に置き換えてcsv化させる前処理を行います．\n",
    "\n",
    "次のコードでは読み込みが二段階で行われているように見えますが，最初の``open``関数での読み込みは文字コード判定のために行っています．\n",
    "\n",
    "あえてSEMの場合にこの処理を加えているのは，SEMの利用形態においては日本語文字でファイル名を保存したり，またファイルの中身においても日本語で記入する割合が高い利用形態が調査でわかりました．半角英数字のみであればデフォルトのutf-8として，この処理は不要ですが，日本語が交じるとデフォルトのままでは文字化けが発生するため，この事前の判定を必要とします．\n",
    "\n",
    "もし，機器の運用に置いて日本語を使用しないことがわかっていれば，この事前処理は不要です．"
   ]
  },
  {
   "cell_type": "code",
   "execution_count": 9,
   "id": "ec0049ef",
   "metadata": {},
   "outputs": [],
   "source": [
    "def ini_to_csv(_fn):\n",
    "    \"\"\"\n",
    "    概要: ini形式のtextファイルをcsv型へ変換する\n",
    "    @param _fn: rawデータのファイル\n",
    "    @return：　csv型をtxtとして戻す\n",
    "    \"\"\"\n",
    "    \n",
    "    csv = \"\"\n",
    "    \n",
    "    # encodingの判定\n",
    "    with open(_fn, 'rb') as f:\n",
    "        b = f.read()\n",
    "        enc = detect(b)\n",
    "        encd = enc['encoding']\n",
    "\n",
    "    with open(_fn, mode='r', encoding=encd) as f:\n",
    "        line = f.readline()\n",
    "        \n",
    "        while line:\n",
    "            if not re.match(u\"\\[\", line):\n",
    "                str = line.rstrip(os.linesep).replace('=', ',', 1)\n",
    "                csv += str\n",
    "                csv += \"\\n\"\n",
    "            line = f.readline()\n",
    "            \n",
    "    return csv"
   ]
  },
  {
   "cell_type": "markdown",
   "id": "3fcd3f0c",
   "metadata": {},
   "source": [
    "ではサンプルファイルの一つ「sample-１_1200倍(x1.2k).txt」で走らせて確認しましょう．"
   ]
  },
  {
   "cell_type": "code",
   "execution_count": 24,
   "id": "8790c127",
   "metadata": {},
   "outputs": [
    {
     "data": {
      "text/plain": [
       "'InstructName,TM4000\\nSemVersion,01-08\\nSDMVersion,\\nSerialNumber,2170A6-05\\nDataNumber,TM4000 0001\\nSampleName,\\nFormat,tif\\nImageName,タンポポ花粉-１_1200倍(x1.2k).tif\\nDirectory,D:\\\\SemImage\\\\lixianglan\\\\\\nDate,2021/06/23\\nTime,16:43:33\\nMedia,HD[Data]\\nDataSize,1280x960\\nPixelSize,82.68229\\nSignalName,BSE\\nDisplaySignalName,BSE\\nSEDetSetting,\\nAcceleratingVoltage,15000 Volt\\nDecelerationVoltage,0 Volt\\nDecelerationMode,\\nMagnification,1200\\nWorkingDistance,7920.5 um\\nEmissionCurrent,46900 nA\\nPhotoSize,1000\\nMagnificationDisplay,0\\nVacuum,50\\nMicronMarker,40000\\nSubMagnification,0\\nSubSignalName,\\nSpecimenBias,0 V\\nCondencer1,9230\\nScanSpeed,Capture_Slow(80)\\nCaptureSpeed_Integration,\\nCalibrationScanSpeed,24\\nImgEnhance,0\\nColorMode,Grayscale\\nColorPalette,\\nScreenMode,Full Screen\\nComment,\\nKeyWord1,\\nKeyWord2,\\nCondition,Vacc=15.0kV Mag=x1.20k WD=7.9mm LensMode=3\\nDataDisplayCombine,1\\nStageType,0\\nStagePositionX,17500000\\nStagePositionY,17500000\\nStagePositionR,0.000\\nStagePositionZ,0\\nStagePositionT,0.000\\nFocusDepth,\\nDynamicFocus,0\\nTiltCompensation,0\\nImageShiftX,\\nImageShiftY,\\nRasterRotation,10.2\\nMagneticSample,\\nUserName,***\\n'"
      ]
     },
     "execution_count": 24,
     "metadata": {},
     "output_type": "execute_result"
    }
   ],
   "source": [
    "filename = \"data\\\\sample-１_1200倍(x1.2k).txt\"\n",
    "txt = ini_to_csv(filename)\n",
    "txt"
   ]
  },
  {
   "cell_type": "markdown",
   "id": "7d9e0e69",
   "metadata": {},
   "source": [
    "csvであるはずが，文字の羅列のようにみえますね．実際，プログラムの中ではcsvはこのような形で格納されています．\n",
    "\n",
    "特に文字化けのようにみえる「\\n」（出力は円記号）がリターンの意味です．このようにして通常の表示では改行されて表示されますが，ここでは文字列が連続的に表示されます．"
   ]
  },
  {
   "cell_type": "markdown",
   "id": "98e45fd8",
   "metadata": {},
   "source": [
    "## 5. 撮影情報メタリストの作成\n",
    "最後の処理となります．ここでは＃４の出力の中から＃３で指定したメタデータのみを抽出するとともに，複数ファイルから同じ項目のみを抽出してリ表組化する処理を行います．"
   ]
  },
  {
   "cell_type": "code",
   "execution_count": 27,
   "id": "0f3ecdc8",
   "metadata": {},
   "outputs": [],
   "source": [
    "def make_metatable (files,keypara):\n",
    "    \n",
    "    # 撮影メタデータの抽出\n",
    "    n = 1\n",
    "    for fn in files:\n",
    "        txt = \"\"\n",
    "        txt = ini_to_csv(fn)\n",
    "        \n",
    "        tmp = pd.read_csv(io.StringIO(txt), header=None,\n",
    "                          names=['key', 'value%s' % n])\n",
    "        if n == 1:\n",
    "            out = tmp\n",
    "        else:\n",
    "            out = pd.merge(out, tmp, on='key', how='outer')\n",
    "        n += 1\n",
    "        \n",
    "    out = out.set_index('key')\n",
    "    out = out.transpose()\n",
    "    out = out[list(keypara.keys())]\n",
    "    d = dict(zip(list(keypara.keys()), list(keypara.values())))\n",
    "    out = out.rename(columns=d)\n",
    "\n",
    "    # 単位削除\n",
    "    for index, row in out.iterrows():\n",
    "        for k in ['Accelerating Voltage', 'Working Distance']:\n",
    "            v = row[k]\n",
    "            if v == v:\n",
    "                v = v.split(' ')\n",
    "                if len(v) > 1:\n",
    "                    row[k] = v[0]\n",
    "\n",
    "    # リストの出力\n",
    "    out.to_csv('output/' + \"metalist.csv\", index = None,\n",
    "               quoting=csv.QUOTE_NONNUMERIC, encoding='utf_8_sig')\n",
    "    \n",
    "    return out"
   ]
  },
  {
   "cell_type": "markdown",
   "id": "13cab34f",
   "metadata": {},
   "source": [
    "では，結果を見てみることにしましょう．\n",
    "一連のファイル群は＃２のfilesに入っています．それをそのまま流し込みます．また，keyparaは＃３でセレクトしたものです．それらをmake_metatable関数に入れます．"
   ]
  },
  {
   "cell_type": "code",
   "execution_count": 29,
   "id": "1fe85a5b",
   "metadata": {},
   "outputs": [
    {
     "data": {
      "text/html": [
       "<div>\n",
       "<style scoped>\n",
       "    .dataframe tbody tr th:only-of-type {\n",
       "        vertical-align: middle;\n",
       "    }\n",
       "\n",
       "    .dataframe tbody tr th {\n",
       "        vertical-align: top;\n",
       "    }\n",
       "\n",
       "    .dataframe thead th {\n",
       "        text-align: right;\n",
       "    }\n",
       "</style>\n",
       "<table border=\"1\" class=\"dataframe\">\n",
       "  <thead>\n",
       "    <tr style=\"text-align: right;\">\n",
       "      <th>key</th>\n",
       "      <th>Instrument Model</th>\n",
       "      <th>Instrument S/N</th>\n",
       "      <th>Comment and Number</th>\n",
       "      <th>File Name</th>\n",
       "      <th>Measurement Date</th>\n",
       "      <th>Measurement Time</th>\n",
       "      <th>Data Size</th>\n",
       "      <th>Pixel Size</th>\n",
       "      <th>Signal Name</th>\n",
       "      <th>Accelerating Voltage</th>\n",
       "      <th>Magnification</th>\n",
       "      <th>Working Distance</th>\n",
       "    </tr>\n",
       "  </thead>\n",
       "  <tbody>\n",
       "    <tr>\n",
       "      <th>value1</th>\n",
       "      <td>TM4000</td>\n",
       "      <td>2170A6-05</td>\n",
       "      <td>TM4000 0001</td>\n",
       "      <td>タンポポ花粉-１_1200倍(x1.2k).tif</td>\n",
       "      <td>2021/06/23</td>\n",
       "      <td>16:43:33</td>\n",
       "      <td>1280x960</td>\n",
       "      <td>82.68229</td>\n",
       "      <td>BSE</td>\n",
       "      <td>15000</td>\n",
       "      <td>1200</td>\n",
       "      <td>7920.5</td>\n",
       "    </tr>\n",
       "    <tr>\n",
       "      <th>value2</th>\n",
       "      <td>TM4000</td>\n",
       "      <td>2170A6-05</td>\n",
       "      <td>TM4000 0001</td>\n",
       "      <td>タンポポ花粉-１_200倍(x200).tif</td>\n",
       "      <td>2021/06/23</td>\n",
       "      <td>16:38:33</td>\n",
       "      <td>1280x960</td>\n",
       "      <td>496.0938</td>\n",
       "      <td>BSE</td>\n",
       "      <td>15000</td>\n",
       "      <td>200</td>\n",
       "      <td>7706.35</td>\n",
       "    </tr>\n",
       "    <tr>\n",
       "      <th>value3</th>\n",
       "      <td>TM4000</td>\n",
       "      <td>2170A6-05</td>\n",
       "      <td>TM4000 0001</td>\n",
       "      <td>タンポポ花粉-１_600倍(x600).tif</td>\n",
       "      <td>2021/06/23</td>\n",
       "      <td>16:41:13</td>\n",
       "      <td>1280x960</td>\n",
       "      <td>165.3646</td>\n",
       "      <td>BSE</td>\n",
       "      <td>15000</td>\n",
       "      <td>600</td>\n",
       "      <td>7892.3</td>\n",
       "    </tr>\n",
       "  </tbody>\n",
       "</table>\n",
       "</div>"
      ],
      "text/plain": [
       "key    Instrument Model Instrument S/N Comment and Number  \\\n",
       "value1           TM4000      2170A6-05        TM4000 0001   \n",
       "value2           TM4000      2170A6-05        TM4000 0001   \n",
       "value3           TM4000      2170A6-05        TM4000 0001   \n",
       "\n",
       "key                     File Name Measurement Date Measurement Time Data Size  \\\n",
       "value1  タンポポ花粉-１_1200倍(x1.2k).tif       2021/06/23         16:43:33  1280x960   \n",
       "value2    タンポポ花粉-１_200倍(x200).tif       2021/06/23         16:38:33  1280x960   \n",
       "value3    タンポポ花粉-１_600倍(x600).tif       2021/06/23         16:41:13  1280x960   \n",
       "\n",
       "key    Pixel Size Signal Name Accelerating Voltage Magnification  \\\n",
       "value1   82.68229         BSE                15000          1200   \n",
       "value2   496.0938         BSE                15000           200   \n",
       "value3   165.3646         BSE                15000           600   \n",
       "\n",
       "key    Working Distance  \n",
       "value1           7920.5  \n",
       "value2          7706.35  \n",
       "value3           7892.3  "
      ]
     },
     "execution_count": 29,
     "metadata": {},
     "output_type": "execute_result"
    }
   ],
   "source": [
    "files = files\n",
    "keypara = keypara\n",
    "out = make_metatable (files,keypara)\n",
    "out"
   ]
  },
  {
   "cell_type": "markdown",
   "id": "2c4fa18d",
   "metadata": {},
   "source": [
    "必要とするメタデータが抽出されて表組みになったのがわかります．撮影情報として最低限に必要な項目のみが綺麗にまとめられると，撮影したファイル名から撮影目的も一目瞭然となります．\n",
    "\n",
    "あわせて，この組み合わせが「output」フォルダに.csvとして出力されています．"
   ]
  },
  {
   "cell_type": "markdown",
   "id": "5d18d09b",
   "metadata": {},
   "source": [
    "## ６. 一本化する\n",
    "上記の一連の処理を一本化することをします．下記のように一本化したコードを``main``関数として定義しておきます．処理の順番を並べるだけです．\n"
   ]
  },
  {
   "cell_type": "code",
   "execution_count": 40,
   "id": "74427d3d",
   "metadata": {},
   "outputs": [],
   "source": [
    "def main():\n",
    "\n",
    "    output_folder = 'output'\n",
    "    os.makedirs(output_folder,exist_ok = True)\n",
    "    \n",
    "    extension = '.txt'\n",
    "    files = read_files(extension)\n",
    "    \n",
    "    KEYPARAFILE = 'keypara.csv'\n",
    "    keypara = get_keypara(KEYPARAFILE)\n",
    "    \n",
    "    \n",
    "    out = make_metatable(files,keypara)\n",
    "    \n",
    "    print (out)"
   ]
  },
  {
   "cell_type": "markdown",
   "id": "ea1c4527",
   "metadata": {},
   "source": [
    "その``main``関数を下記のようにして走らせてみましょう．一連の処理が一貫で行われます．"
   ]
  },
  {
   "cell_type": "code",
   "execution_count": 41,
   "id": "5a2e159c",
   "metadata": {},
   "outputs": [
    {
     "name": "stdout",
     "output_type": "stream",
     "text": [
      "['data\\\\sample-１_1200倍(x1.2k).txt', 'data\\\\sample-１_200倍(x200).txt', 'data\\\\sample-１_600倍(x600).txt']\n",
      "key    Instrument Model Instrument S/N Comment and Number  \\\n",
      "value1           TM4000      2170A6-05        TM4000 0001   \n",
      "value2           TM4000      2170A6-05        TM4000 0001   \n",
      "value3           TM4000      2170A6-05        TM4000 0001   \n",
      "\n",
      "key                     File Name Measurement Date Measurement Time Data Size  \\\n",
      "value1  タンポポ花粉-１_1200倍(x1.2k).tif       2021/06/23         16:43:33  1280x960   \n",
      "value2    タンポポ花粉-１_200倍(x200).tif       2021/06/23         16:38:33  1280x960   \n",
      "value3    タンポポ花粉-１_600倍(x600).tif       2021/06/23         16:41:13  1280x960   \n",
      "\n",
      "key    Pixel Size Signal Name Accelerating Voltage Magnification  \\\n",
      "value1   82.68229         BSE                15000          1200   \n",
      "value2   496.0938         BSE                15000           200   \n",
      "value3   165.3646         BSE                15000           600   \n",
      "\n",
      "key    Working Distance  \n",
      "value1           7920.5  \n",
      "value2          7706.35  \n",
      "value3           7892.3  \n"
     ]
    }
   ],
   "source": [
    "main()\n"
   ]
  },
  {
   "cell_type": "markdown",
   "id": "737751e4",
   "metadata": {},
   "source": [
    "## おわりに\n",
    "このSEMは最も基本形のシンプルなタイプのメタデータを抽出するデータ構造化の事例となります．基本的なポイントとなるのは次の処理項目です．\n",
    "\n",
    "* データ構造化したいファイルを指定して読み込む\n",
    "* 抽出するメタデータを外部辞書ファイルとして指定して，それを読み込む\n",
    "* 実験ファイルの中でマッチングするメタデータを抽出する．\n",
    "\n",
    "あとは，お好みに応じて``KEYPARA``ファイルの中身を増やしたり減らしたりすることで，ユーザーの利用形態にあわせて調整することができます．\n",
    "\n",
    "また，SEMの場合には撮影した目的に応じた判定をしているはずです．（例えば欠陥があった，なかったなど）　そのようなラベルリストは別に用意しておくと，機械学習に供することができるようになります．"
   ]
  },
  {
   "cell_type": "code",
   "execution_count": null,
   "id": "74f6bbd2",
   "metadata": {},
   "outputs": [],
   "source": []
  }
 ],
 "metadata": {
  "kernelspec": {
   "display_name": "Python 3",
   "language": "python",
   "name": "python3"
  },
  "language_info": {
   "codemirror_mode": {
    "name": "ipython",
    "version": 3
   },
   "file_extension": ".py",
   "mimetype": "text/x-python",
   "name": "python",
   "nbconvert_exporter": "python",
   "pygments_lexer": "ipython3",
   "version": "3.8.10"
  }
 },
 "nbformat": 4,
 "nbformat_minor": 5
}
