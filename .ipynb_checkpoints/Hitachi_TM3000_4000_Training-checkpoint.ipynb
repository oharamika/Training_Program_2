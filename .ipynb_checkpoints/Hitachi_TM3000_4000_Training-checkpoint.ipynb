{
 "cells": [
  {
   "cell_type": "markdown",
   "id": "be7b3d7b",
   "metadata": {},
   "source": [
    "\n",
    "# データ構造化事例　＃２\n",
    "## 粉末・薄膜用のXRDデータのデータ構造化 \n",
    "\n",
    "\n",
    "\n",
    "**対応機種** ：　 リガク　SmartLab  \n",
    "**rawデータ**：　ras (テキスト形式)  \n",
    "**スクリプトの内容**：  \n",
    "主に粉体・薄膜用のXRD測定に用いられるリガク（SmartLab）のデータについて，データ構造化（数値csvファイル化）ならびに回折図を出力します．\n",
    "\n",
    "![image](https://user-images.githubusercontent.com/38028745/134605660-c22bdca9-51f9-463b-8e59-83765d38a2d6.png)"
   ]
  },
  {
   "cell_type": "markdown",
   "id": "4b4600b6",
   "metadata": {},
   "source": [
    "<hr>"
   ]
  },
  {
   "cell_type": "markdown",
   "id": "d67c4e8d",
   "metadata": {},
   "source": [
    "## はじめに　Google ColabでGitHubのコードを動かす準備　（Google Colabでなければ不要）\n",
    "Google ColabでGitHubのコードを動かすための方法です．  \n",
    "**Google Colabからではない場合には本作業はスキップ**してください．  "
   ]
  },
  {
   "cell_type": "markdown",
   "id": "bc487e66",
   "metadata": {},
   "source": [
    "次のボタンを押してGoogle Colabにアクセスします．  \n",
    "もしグレーアウトで開かない場合には**右クリック**で「**新しいタブで開く**」を選んで進んでください．"
   ]
  },
  {
   "cell_type": "markdown",
   "id": "7491989b",
   "metadata": {},
   "source": [
    "<a href=\"https://colab.research.google.com/github/ARIM-Japan/Training_Program/blob/main/XRD_Rigaku_Smartlab_Training.ipynb\">\n",
    "  <img src=\"https://colab.research.google.com/assets/colab-badge.svg\" alt=\"Open In Colab\"/>\n",
    "</a>"
   ]
  },
  {
   "cell_type": "markdown",
   "id": "3e8c4ae6",
   "metadata": {},
   "source": [
    "## サンプルデータを読み込みましょう"
   ]
  },
  {
   "cell_type": "code",
   "execution_count": 1,
   "id": "44c87c06",
   "metadata": {},
   "outputs": [
    {
     "name": "stdout",
     "output_type": "stream",
     "text": [
      "C:\\Users\\Shigeyuki Matsunami\\Dropbox\\4_データ設計\\1_データ構造化\\Github\\Training_Program\\Training_Program\n"
     ]
    },
    {
     "name": "stderr",
     "output_type": "stream",
     "text": [
      "Cloning into 'Training_Program'...\n"
     ]
    }
   ],
   "source": [
    "!git clone https://github.com/ARIM-Japan/Training_Program.git\n",
    "%cd Training_Program"
   ]
  },
  {
   "cell_type": "markdown",
   "id": "5651aed7",
   "metadata": {},
   "source": [
    "これで準備が整いました．"
   ]
  },
  {
   "cell_type": "markdown",
   "id": "790a0f55",
   "metadata": {},
   "source": [
    "<hr>"
   ]
  },
  {
   "cell_type": "markdown",
   "id": "54c4945a",
   "metadata": {},
   "source": [
    "## 1. ライブラリーを読み込みましょう\n",
    "最初にコードを走らせるのに必要なライブラリーを読み込みます．ライブラリとしては以下を使っています．\n",
    " * 標準ライブラリー: ``glob``, ``os``, ``csv``\n",
    " * 数値処理用: ``pandas``\n",
    " * 可視化用: ``matplotlib``  "
   ]
  },
  {
   "cell_type": "code",
   "execution_count": 1,
   "id": "305a0929",
   "metadata": {},
   "outputs": [],
   "source": [
    "# ファイル操作用\n",
    "import glob\n",
    "import os\n",
    "import csv\n",
    "\n",
    "# 数値処理用\n",
    "import pandas as pd\n",
    "\n",
    "# 可視化用\n",
    "from matplotlib import pyplot as plt\n",
    "from matplotlib.ticker import ScalarFormatter"
   ]
  },
  {
   "cell_type": "markdown",
   "id": "2e5ccc64",
   "metadata": {},
   "source": [
    "また，出力結果を「output」フォルダーに保存するため，そのフォルダーの作成をします．"
   ]
  },
  {
   "cell_type": "code",
   "execution_count": 2,
   "id": "be11d240",
   "metadata": {},
   "outputs": [],
   "source": [
    "output_folder = 'output'\n",
    "os.makedirs(output_folder,exist_ok = True)"
   ]
  },
  {
   "cell_type": "markdown",
   "id": "74d23d8c",
   "metadata": {},
   "source": [
    "## 2. ファイルの拡張子を調べます\n",
    "データ構造化の最初のステップとして，データ構造化するファイルを特定する必要があります．その特定は**拡張子**で判定します．  \n",
    "下記の``read_files``関数は入力ファイルが置いてある「data」フォルダーにある特定の拡張子のファイルをすべてリスト化します．ここでは単一のファイルではなく複数のファイルが扱えることを想定しています．\n",
    "\n",
    "もしエラーがでたら「data」フォルダーを作成し，その中に.rasファイルを配置してみてください．"
   ]
  },
  {
   "cell_type": "code",
   "execution_count": 3,
   "id": "b6fcb51b",
   "metadata": {},
   "outputs": [],
   "source": [
    "def read_files(extension):\n",
    "    \"\"\"\n",
    "    概要: 特定の拡張子のついたファイルをすべて読み込む\n",
    "    @param extension: 読み込む拡張子\n",
    "    @return 拡張子をぬいたファイル名，　ファイル数，　出力で使うファイル名\n",
    "    \"\"\"\n",
    "\n",
    "    #入力データのフォルダーを\"data\"とする\n",
    "    path = 'data/*' + extension\n",
    "    input_files = glob.glob(path)\n",
    "\n",
    "    # 読み込みファイル数の取得\n",
    "    number_of_files = len(input_files)\n",
    "\n",
    "    # 拡張子を抜いたファイル名（出力用）\n",
    "    output_name = [os.path.splitext(os.path.basename(p))[0] for p in input_files]\n",
    "\n",
    "    return input_files, number_of_files, output_name"
   ]
  },
  {
   "cell_type": "markdown",
   "id": "2c54783a",
   "metadata": {},
   "source": [
    "\n",
    "リガクのXRDの生ファイルである``.ras``を含むファイルを指定してみましょう．"
   ]
  },
  {
   "cell_type": "code",
   "execution_count": 4,
   "id": "fa50e462",
   "metadata": {},
   "outputs": [
    {
     "data": {
      "text/plain": [
       "(['data\\\\XRD_RIGAKU.ras'], 1, ['XRD_RIGAKU'])"
      ]
     },
     "execution_count": 4,
     "metadata": {},
     "output_type": "execute_result"
    }
   ],
   "source": [
    "default_extension = 'ras'\n",
    "read_files(default_extension)"
   ]
  },
  {
   "cell_type": "markdown",
   "id": "b60ebcbd",
   "metadata": {},
   "source": [
    "上記のようにリスト配列の結果が戻ります．  \n",
    "１つ目は「data」フォルダーにある.rasのファイル名（相対パス形式），２つ目はファイル数，３つ目は拡張子（.ras）を省いたファイル名です．  \n",
    "３番目はグラフのタイトルや出力ファイル名で使うために準備します．"
   ]
  },
  {
   "cell_type": "markdown",
   "id": "3b9f8120",
   "metadata": {},
   "source": [
    "# 3. 特定の文字（単語）が何行目に出現するか\n",
    "データ構造化では，ファイルに含まれいているヘッダー部と数値部を切り離す処理をします．その切り離す場所を判定するために特定の文字（単語）を指定する方法をとります．そのようなときに**特定の単語が現れる「行数」を判定**する関数です．\n",
    "\n",
    "行判定は，次のような流れです．\n",
    "1. ``open``関数で読みだしたファイルをtextに格納．\n",
    "1. forループで一行づつtextを読み出しながら指定した文字（**word**）が含まれているかを``inキーワード``で判定\n",
    "1. 一致した行をmatch_lineに格納\n",
    "1. match_lineを戻し値としてreturnする"
   ]
  },
  {
   "cell_type": "code",
   "execution_count": 5,
   "id": "ec0049ef",
   "metadata": {},
   "outputs": [],
   "source": [
    "def get_line_number(filename,word):\n",
    "    \"\"\"\n",
    "    概要: 特定の文字（単語）が何行目に出現するか\n",
    "    @param filename: ファイル名\n",
    "    @param wotd: 検索したい単語\n",
    "    @return 行番号\n",
    "    \"\"\"\n",
    "    with open(filename,  newline='') as f:\n",
    "        reader = csv.reader(f)\n",
    "        text = [row for row in reader]\n",
    "     \n",
    "    for i in range(len(text)):\n",
    "        if word in text[i]:\n",
    "            match_line = i\n",
    "    \n",
    "    return match_line"
   ]
  },
  {
   "cell_type": "markdown",
   "id": "3fcd3f0c",
   "metadata": {},
   "source": [
    "ここでは「2. ファイルの拡張子を調べます」で出力したdataフォルタにある「XRD_RIGAKU.ras」について”＊RAS_INT_START”という文字（列）が含まれる行数を調べてみることにしましょう．  \n",
    "\n",
    "単語判定ではword = '＊RAS_INT_START'として変数としておくと，関数には読み込みやすくなります．"
   ]
  },
  {
   "cell_type": "code",
   "execution_count": 6,
   "id": "8790c127",
   "metadata": {},
   "outputs": [
    {
     "data": {
      "text/plain": [
       "469"
      ]
     },
     "execution_count": 6,
     "metadata": {},
     "output_type": "execute_result"
    }
   ],
   "source": [
    "filename = \"data/XRD_RIGAKU.ras\"\n",
    "word = '*RAS_INT_START'\n",
    "get_line_number(filename,word)"
   ]
  },
  {
   "cell_type": "markdown",
   "id": "7d9e0e69",
   "metadata": {},
   "source": [
    "上記のように”469”という数字が現れました．これは'RAS_INT_START'という文字列（単語）が469行目にあることを示しています．（注意：pythonは0行からカウントが始まるため，1行目カウントであれば470行目となります）  \n",
    "\n",
    "実は，この”RAS_INT_START”はリガクの.rasファイルをみると，数値部が始まる直前の単語であることがわかります．そうです．470行目からの数値部が回折角に対する強度データとなりますので，そのための判定に使っています．"
   ]
  },
  {
   "cell_type": "markdown",
   "id": "be79a488",
   "metadata": {},
   "source": [
    "## 4. 数値化ファイル作成のための前処理\n",
    "470個のヘッダーがあると，Excelでも読み込むにも使いにくい形態です．測定の設定が記録されていることでは親切ではあっても，データ処理にとっては必ずしも親切とはいえません．ヘッダーを削除した数値データのみのcsvファイルを作成しておくと使いやすくなります．  \n",
    "\n",
    "そのための前処理として，ヘッダー部と数値部とを切り離し，数値部のみを取り出す処理を``pandas``の``read_csv``関数で行います．  \n",
    "\n",
    "``read_csv``関数で特定の行から読み込むオプションは``header``を使います．ここでは``heaedr``は``get_line_number``関数で取得した数字を入れます．\n",
    "\n",
    ".rasファイルの数値列は3列からなりなっていますが，3列目は不要です．ここではダミー列名として”para”としておき，それを続く``dropメソッド``を使って削除するようにしています．"
   ]
  },
  {
   "cell_type": "code",
   "execution_count": 7,
   "id": "91ca2376",
   "metadata": {},
   "outputs": [],
   "source": [
    "def data_extract(file):\n",
    "    \"\"\"\n",
    "    概要: 数値部の抽出\n",
    "    @param file: npdファイル\n",
    "    @return dataframe（ch,回折角，強度）\n",
    "    \"\"\"\n",
    "\n",
    "    index_word = '*RAS_INT_START'\n",
    "    \n",
    "    start_line = get_line_number(file,index_word)\n",
    "\n",
    "    df = pd.read_csv(file,\n",
    "                 sep=' ',\n",
    "                 header = start_line,\n",
    "                 skip_blank_lines= False,\n",
    "                 names=('2theta', 'intensity','para'))\n",
    "    \n",
    "    df = df.drop(['para'], axis = 1)\n",
    "    df = df.dropna().astype('float')\n",
    "\n",
    "    return df"
   ]
  },
  {
   "cell_type": "markdown",
   "id": "81c3be93",
   "metadata": {},
   "source": [
    "では，XRD_RIGAKU.rasを直接指定してみましょう．dataframe形式で数値部が表示されます．"
   ]
  },
  {
   "cell_type": "code",
   "execution_count": 8,
   "id": "e73274ef",
   "metadata": {},
   "outputs": [
    {
     "data": {
      "text/html": [
       "<div>\n",
       "<style scoped>\n",
       "    .dataframe tbody tr th:only-of-type {\n",
       "        vertical-align: middle;\n",
       "    }\n",
       "\n",
       "    .dataframe tbody tr th {\n",
       "        vertical-align: top;\n",
       "    }\n",
       "\n",
       "    .dataframe thead th {\n",
       "        text-align: right;\n",
       "    }\n",
       "</style>\n",
       "<table border=\"1\" class=\"dataframe\">\n",
       "  <thead>\n",
       "    <tr style=\"text-align: right;\">\n",
       "      <th></th>\n",
       "      <th>2theta</th>\n",
       "      <th>intensity</th>\n",
       "    </tr>\n",
       "  </thead>\n",
       "  <tbody>\n",
       "    <tr>\n",
       "      <th>0</th>\n",
       "      <td>25.00</td>\n",
       "      <td>13.0</td>\n",
       "    </tr>\n",
       "    <tr>\n",
       "      <th>1</th>\n",
       "      <td>25.01</td>\n",
       "      <td>7.0</td>\n",
       "    </tr>\n",
       "    <tr>\n",
       "      <th>2</th>\n",
       "      <td>25.02</td>\n",
       "      <td>12.0</td>\n",
       "    </tr>\n",
       "    <tr>\n",
       "      <th>3</th>\n",
       "      <td>25.03</td>\n",
       "      <td>6.0</td>\n",
       "    </tr>\n",
       "    <tr>\n",
       "      <th>4</th>\n",
       "      <td>25.04</td>\n",
       "      <td>3.0</td>\n",
       "    </tr>\n",
       "    <tr>\n",
       "      <th>...</th>\n",
       "      <td>...</td>\n",
       "      <td>...</td>\n",
       "    </tr>\n",
       "    <tr>\n",
       "      <th>3496</th>\n",
       "      <td>59.96</td>\n",
       "      <td>4.0</td>\n",
       "    </tr>\n",
       "    <tr>\n",
       "      <th>3497</th>\n",
       "      <td>59.97</td>\n",
       "      <td>2.0</td>\n",
       "    </tr>\n",
       "    <tr>\n",
       "      <th>3498</th>\n",
       "      <td>59.98</td>\n",
       "      <td>1.0</td>\n",
       "    </tr>\n",
       "    <tr>\n",
       "      <th>3499</th>\n",
       "      <td>59.99</td>\n",
       "      <td>3.0</td>\n",
       "    </tr>\n",
       "    <tr>\n",
       "      <th>3500</th>\n",
       "      <td>60.00</td>\n",
       "      <td>2.0</td>\n",
       "    </tr>\n",
       "  </tbody>\n",
       "</table>\n",
       "<p>3501 rows × 2 columns</p>\n",
       "</div>"
      ],
      "text/plain": [
       "      2theta  intensity\n",
       "0      25.00       13.0\n",
       "1      25.01        7.0\n",
       "2      25.02       12.0\n",
       "3      25.03        6.0\n",
       "4      25.04        3.0\n",
       "...      ...        ...\n",
       "3496   59.96        4.0\n",
       "3497   59.97        2.0\n",
       "3498   59.98        1.0\n",
       "3499   59.99        3.0\n",
       "3500   60.00        2.0\n",
       "\n",
       "[3501 rows x 2 columns]"
      ]
     },
     "execution_count": 8,
     "metadata": {},
     "output_type": "execute_result"
    }
   ],
   "source": [
    "data = data_extract(\"data/XRD_RIGAKU.ras\")\n",
    "data"
   ]
  },
  {
   "cell_type": "markdown",
   "id": "98e45fd8",
   "metadata": {},
   "source": [
    "## 5. 数値化csvファイルの保存\n",
    "上記のdataとして出力したdataframeをcsv化します．ファイルの保存は``pandas``の``to_csv``関数を使います．ここでは，\"output\"というフォルダに\"test_extract.csv\"というファイル名で保存します．\n",
    "\n",
    "その時，``index =false``とすることで行番号（インデックス番号）の出力を不要としています．"
   ]
  },
  {
   "cell_type": "code",
   "execution_count": 10,
   "id": "1fe85a5b",
   "metadata": {},
   "outputs": [],
   "source": [
    "data.to_csv('output' + '/' + 'XRD_RIGAKU_extract.csv',index = False)"
   ]
  },
  {
   "cell_type": "markdown",
   "id": "88f36e5f",
   "metadata": {},
   "source": [
    "## 6. 可視化図の作成と保存\n",
    "XRDの回折図のような規定パターンのグラフはユーザー関数化しておくと便利です．ここでは``make_figure``関数として作ります．第一引数にはdataframeの数値データ，第二引数は図の中で表示するタイトル名や出力ファイル名を\"file\"として指定します．\n",
    "\n",
    "グラフのレイアウトの指定方法は``matplotlib``によるものです．"
   ]
  },
  {
   "cell_type": "code",
   "execution_count": 11,
   "id": "53678477",
   "metadata": {},
   "outputs": [],
   "source": [
    "# XRDの作図\n",
    "def make_figure(df, file):\n",
    "    \n",
    "    print ('Making plot in progress')\n",
    "\n",
    "    # 図の設定    \n",
    "    hfont = {'fontname': 'Arial'}\n",
    "    fig, ax = plt.subplots(1,1, figsize=(16,9))\n",
    "    \n",
    "    # 可視化パラメータ\n",
    "    X = df['2theta']\n",
    "    Y = df['intensity']   \n",
    "                \n",
    "    # 可視化図\n",
    "    ax.plot(X, Y,\n",
    "            linewidth = 1.0, \n",
    "            color ='black')\n",
    " \n",
    "    # 軸ラベル設定\n",
    "    ax.set_xlabel(\"2theta [deg]\",\n",
    "                  **hfont, \n",
    "                  fontsize = 20, \n",
    "                  labelpad= 10,\n",
    "                  fontweight='bold')\n",
    "    \n",
    "    ax.set_ylabel(\"Intensity [counts]\",\n",
    "                  **hfont, \n",
    "                  fontsize = 20, \n",
    "                  labelpad= 10,\n",
    "                  fontweight='bold')\n",
    "\n",
    "    #　軸の設定\n",
    "    ax.minorticks_on()\n",
    "    ax.tick_params(direction = \"in\", \n",
    "                   which = \"both\", \n",
    "                   length = 5, \n",
    "                   labelsize=16)\n",
    "    \n",
    "    ax.xaxis.set_major_formatter(ScalarFormatter(useMathText=True))    \n",
    "    ax.yaxis.set_major_formatter(ScalarFormatter(useMathText=True))\n",
    "    \n",
    "    # 縦軸の指数関数型表示\n",
    "    ax.ticklabel_format(style=\"sci\",  axis=\"y\",scilimits=(0,0))\n",
    "        \n",
    "    #ax.xaxis.offsetText.set_fontsize(16)\n",
    "    ax.yaxis.offsetText.set_fontsize(16)\n",
    "    \n",
    "    # グリッドラインの表示\n",
    "    ax.grid(which = \"major\", \n",
    "            axis = \"both\", \n",
    "            color = \"gray\", \n",
    "            linestyle = \"--\", \n",
    "            linewidth = 0.6) \n",
    "    \n",
    "    # グラフタイトルの設定\n",
    "    ax.set_title(file, **hfont, fontsize = 16)\n",
    "    \n",
    "    # 出力\n",
    "    plt.savefig('output' + '/' + file + '.png', dpi=300)\n",
    "    plt.show()"
   ]
  },
  {
   "cell_type": "markdown",
   "id": "5d18d09b",
   "metadata": {},
   "source": [
    "ここでは，第一引数として\"data\"とし，第二引数を＝”XRD_RIGAKU”として走らせることにしましょう．\n",
    "なお，上記の最終行に``savefig``が見て取れるかと思います．ここで.pngの可視図を”output”フォルダーに保存していますのであわせて確認してみてください．"
   ]
  },
  {
   "cell_type": "code",
   "execution_count": 12,
   "id": "e8cb4b77",
   "metadata": {},
   "outputs": [
    {
     "name": "stdout",
     "output_type": "stream",
     "text": [
      "Making plot in progress\n"
     ]
    },
    {
     "data": {
      "image/png": "[encoded data removed]",
      "text/plain": [
       "<Figure size 1152x648 with 1 Axes>"
      ]
     },
     "metadata": {
      "needs_background": "light"
     },
     "output_type": "display_data"
    }
   ],
   "source": [
    "make_figure(data, 'XRD_RIGAKU')"
   ]
  },
  {
   "cell_type": "markdown",
   "id": "658a743a",
   "metadata": {},
   "source": [
    "## 7. 一本化する\n",
    "上記の一連の処理を一本化することをします．下記のように一本化したコードを``main``関数として定義しておきます．処理の順番を並べるだけです．\n",
    "また，上記ではファイルが一つだけを想定していました．下記の``main``では複数の.rasファイルがある場合にでも実行できるよう``for``ループにしています．\n",
    "\n",
    "計測では複数ファイルを一括して処理する場合がほとんどですので，このような一連の処理は``for``ループ化しておくと作業効率化に効いてきます．"
   ]
  },
  {
   "cell_type": "code",
   "execution_count": 13,
   "id": "74427d3d",
   "metadata": {},
   "outputs": [],
   "source": [
    " def main():\n",
    "    # 初期設定\n",
    "    default_extension = '.ras'\n",
    "    output_folder = 'output'\n",
    "    os.makedirs(output_folder,exist_ok = True)\n",
    "    \n",
    "    # ファイルの読み込み\n",
    "    [files, f_num, fname] = read_files(default_extension)\n",
    "    \n",
    "    # データ抽出（複数ファイルでも対応が可能）\n",
    "    for i in range(f_num):\n",
    "\n",
    "        # 数値データ部の抽出\n",
    "        data = data_extract(files[i])\n",
    "        \n",
    "        # 数値データのcsv出力および可視化図の出力\n",
    "        data.to_csv(output_folder + '/' + fname[i] + '_extract.csv',index = False)\n",
    "        \n",
    "        print (data)\n",
    "        make_figure(data, fname[i])  "
   ]
  },
  {
   "cell_type": "markdown",
   "id": "ea1c4527",
   "metadata": {},
   "source": [
    "その``main``関数を下記のようにして走らせてみましょう．一連の処理が一貫で行われます．"
   ]
  },
  {
   "cell_type": "code",
   "execution_count": 14,
   "id": "5a2e159c",
   "metadata": {},
   "outputs": [
    {
     "name": "stdout",
     "output_type": "stream",
     "text": [
      "      2theta  intensity\n",
      "0      25.00       13.0\n",
      "1      25.01        7.0\n",
      "2      25.02       12.0\n",
      "3      25.03        6.0\n",
      "4      25.04        3.0\n",
      "...      ...        ...\n",
      "3496   59.96        4.0\n",
      "3497   59.97        2.0\n",
      "3498   59.98        1.0\n",
      "3499   59.99        3.0\n",
      "3500   60.00        2.0\n",
      "\n",
      "[3501 rows x 2 columns]\n",
      "Making plot in progress\n"
     ]
    },
    {
     "data": {
      "image/png": "[encoded data removed]",
      "text/plain": [
       "<Figure size 1152x648 with 1 Axes>"
      ]
     },
     "metadata": {
      "needs_background": "light"
     },
     "output_type": "display_data"
    }
   ],
   "source": [
    "main()"
   ]
  },
  {
   "cell_type": "markdown",
   "id": "737751e4",
   "metadata": {},
   "source": [
    "## おわりに\n",
    "このXRDは最も基本形のシンプルなタイプのデータ構造化の事例となります．基本的なポイントとなるのは次の処理項目です．\n",
    "\n",
    "* データ構造化したいファイルを指定して読み込む\n",
    "* 必要な数値部を抽出し保存する\n",
    "* 数値部から可視化図を作成して保存する\n",
    "\n",
    "あとは，お好みに応じて``make_figure``関数の設定を触りながらオリジナルのデザインを進めてゆくことで調整します．ここは``matplotlib``の勉強のたたき台にもなるかと思います．"
   ]
  }
 ],
 "metadata": {
  "kernelspec": {
   "display_name": "Python 3",
   "language": "python",
   "name": "python3"
  },
  "language_info": {
   "codemirror_mode": {
    "name": "ipython",
    "version": 3
   },
   "file_extension": ".py",
   "mimetype": "text/x-python",
   "name": "python",
   "nbconvert_exporter": "python",
   "pygments_lexer": "ipython3",
   "version": "3.8.10"
  }
 },
 "nbformat": 4,
 "nbformat_minor": 5
}
